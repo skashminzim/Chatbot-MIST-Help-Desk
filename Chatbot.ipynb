{
 "cells": [
  {
   "cell_type": "code",
   "execution_count": 193,
   "metadata": {
    "id": "RezaYTrsE5tP"
   },
   "outputs": [],
   "source": [
    "import gensim \n",
    "from gensim.models import Word2Vec\n",
    "model = Word2Vec.load(\"word2vec.model\")"
   ]
  },
  {
   "cell_type": "code",
   "execution_count": 194,
   "metadata": {
    "id": "jqvskWTeEj7x"
   },
   "outputs": [],
   "source": [
    "import pandas as pd\n",
    "import numpy as np\n",
    "import random\n",
    "from tqdm import tqdm\n",
    "from gensim.models import Word2Vec \n",
    "#import matplotlib.pyplot as plt\n",
    "#%matplotlib inline\n",
    "\n",
    "import warnings;\n",
    "warnings.filterwarnings('ignore')"
   ]
  },
  {
   "cell_type": "code",
   "execution_count": 730,
   "metadata": {
    "colab": {
     "base_uri": "https://localhost:8080/",
     "height": 204
    },
    "id": "w0ddYTiTKxMD",
    "outputId": "77a5474b-a5c6-4cf1-d97e-9ac486755fa9"
   },
   "outputs": [
    {
     "data": {
      "text/html": [
       "<div>\n",
       "<style scoped>\n",
       "    .dataframe tbody tr th:only-of-type {\n",
       "        vertical-align: middle;\n",
       "    }\n",
       "\n",
       "    .dataframe tbody tr th {\n",
       "        vertical-align: top;\n",
       "    }\n",
       "\n",
       "    .dataframe thead th {\n",
       "        text-align: right;\n",
       "    }\n",
       "</style>\n",
       "<table border=\"1\" class=\"dataframe\">\n",
       "  <thead>\n",
       "    <tr style=\"text-align: right;\">\n",
       "      <th></th>\n",
       "      <th>0</th>\n",
       "      <th>1</th>\n",
       "    </tr>\n",
       "  </thead>\n",
       "  <tbody>\n",
       "    <tr>\n",
       "      <th>0</th>\n",
       "      <td>MIST</td>\n",
       "      <td>Military Institute of Science and Technology i...</td>\n",
       "    </tr>\n",
       "    <tr>\n",
       "      <th>1</th>\n",
       "      <td>location of MIST</td>\n",
       "      <td>Military Institute of Science and Technology(M...</td>\n",
       "    </tr>\n",
       "    <tr>\n",
       "      <th>2</th>\n",
       "      <td>Is there military and civil students both</td>\n",
       "      <td>Though a military institution, both military a...</td>\n",
       "    </tr>\n",
       "    <tr>\n",
       "      <th>3</th>\n",
       "      <td>dress code in MIST</td>\n",
       "      <td>Civil students are to wear dress with displaye...</td>\n",
       "    </tr>\n",
       "    <tr>\n",
       "      <th>4</th>\n",
       "      <td>Admission procedure</td>\n",
       "      <td>First, students are screened based on their gr...</td>\n",
       "    </tr>\n",
       "  </tbody>\n",
       "</table>\n",
       "</div>"
      ],
      "text/plain": [
       "                                           0  \\\n",
       "0                                       MIST   \n",
       "1                           location of MIST   \n",
       "2  Is there military and civil students both   \n",
       "3                         dress code in MIST   \n",
       "4                        Admission procedure   \n",
       "\n",
       "                                                   1  \n",
       "0  Military Institute of Science and Technology i...  \n",
       "1  Military Institute of Science and Technology(M...  \n",
       "2  Though a military institution, both military a...  \n",
       "3  Civil students are to wear dress with displaye...  \n",
       "4  First, students are screened based on their gr...  "
      ]
     },
     "execution_count": 730,
     "metadata": {},
     "output_type": "execute_result"
    }
   ],
   "source": [
    "df = pd.read_excel('mist_dataset.xlsx', header=None)\n",
    "df.head()"
   ]
  },
  {
   "cell_type": "code",
   "execution_count": 731,
   "metadata": {
    "id": "PMM0kz9vK06b"
   },
   "outputs": [],
   "source": [
    "df.dropna(inplace=True)"
   ]
  },
  {
   "cell_type": "code",
   "execution_count": 732,
   "metadata": {
    "id": "qS66kqmtK5jV"
   },
   "outputs": [],
   "source": [
    "from nltk.corpus import stopwords\n",
    "import re\n",
    "def compute_vec(query):\n",
    "    sm = np.zeros(150)\n",
    "    for tok in query.split(\" \"):\n",
    "        sm = sm + model.wv[tok]\n",
    "    return sm"
   ]
  },
  {
   "cell_type": "code",
   "execution_count": 733,
   "metadata": {
    "id": "dBSeyJANK_sJ"
   },
   "outputs": [],
   "source": [
    "import numpy as np\n",
    "\n",
    "def cos_sim(a, b):\n",
    "    dot_product = np.dot(a, b)\n",
    "    norm_a = np.linalg.norm(a)\n",
    "    norm_b = np.linalg.norm(b)\n",
    "    return dot_product / (norm_a * norm_b)"
   ]
  },
  {
   "cell_type": "code",
   "execution_count": 734,
   "metadata": {
    "colab": {
     "base_uri": "https://localhost:8080/"
    },
    "id": "2hYC_GjELAJI",
    "outputId": "682413b5-413b-4169-e473-54afa4ab2179"
   },
   "outputs": [
    {
     "name": "stderr",
     "output_type": "stream",
     "text": [
      "[nltk_data] Downloading package wordnet to\n",
      "[nltk_data]     C:\\Users\\FARIHA\\AppData\\Roaming\\nltk_data...\n",
      "[nltk_data]   Package wordnet is already up-to-date!\n",
      "[nltk_data] Downloading package punkt to\n",
      "[nltk_data]     C:\\Users\\FARIHA\\AppData\\Roaming\\nltk_data...\n",
      "[nltk_data]   Package punkt is already up-to-date!\n"
     ]
    }
   ],
   "source": [
    "import nltk\n",
    "#nltk.download('stopwords')\n",
    "nltk.download('wordnet')\n",
    "from nltk.corpus import stopwords\n",
    "import string\n",
    "from nltk.stem.wordnet import WordNetLemmatizer\n",
    "from nltk import word_tokenize\n",
    "nltk.download('punkt')\n",
    "\n",
    "def clean1(text1):\n",
    "  #punctuations = '''!()-[]{};:'\"\\,<>./?@#$%^&*_~'''\n",
    "  #no_punct = \"\"\n",
    "  #for char in text1:\n",
    "   #  if char not in punctuations:\n",
    "   #      no_punct = no_punct + char\n",
    "  exclist = string.punctuation\n",
    "  # remove punctuations and digits from oldtext\n",
    "  table_ = str.maketrans('', '', exclist)\n",
    "  #newtext = oldtext.translate(table_)\n",
    "  text = ' '.join(text1.translate(table_).split())\n",
    "  #sents = ['i like cars', 'cats are the best']\n",
    "  word_list = nltk.word_tokenize(text)\n",
    "  #print(word_list)\n",
    "  # Lemmatize list of words and join\n",
    "  lemmatizer = WordNetLemmatizer()\n",
    "  lemmatized_output = ' '.join([lemmatizer.lemmatize(w) for w in word_list])\n",
    "  #print(lemmatized_output)\n",
    "  text=lemmatized_output\n",
    "  #text = no_punct\n",
    "  text = re.sub(r'\\[[0-9]*\\]',' ',text)\n",
    "  text = re.sub(r'\\s+',' ',text)\n",
    "  text = text.lower()\n",
    "  text = re.sub(r'\\d',' ',text)\n",
    "  text = re.sub(r'\\s+',' ',text)\n",
    "  stopwords = ['i','how', 'you', 'your','me','must', 'an', 'a', 'at','any','is','the','of','some','in','want','need','to','can','could','please','about','tell','that','are','have','what','who','there','any', 'do', 'does']\n",
    "  querywords = text.split()\n",
    "\n",
    "  text  = [word for word in querywords if word not in stopwords]\n",
    "  text = ' '.join(text)\n",
    "  #stop_words = set(stopwords.words('english'))\n",
    "  #no_stop = \"\"\n",
    "  #for char in text:\n",
    "   #  if char not in stop_words:\n",
    "    #     no_stop = no_stop + char\n",
    "  #text = no_stop  \n",
    "  #print(text)\n",
    "  return text"
   ]
  },
  {
   "cell_type": "code",
   "execution_count": 735,
   "metadata": {
    "id": "TejC5S6JLGi4"
   },
   "outputs": [],
   "source": [
    "import nltk\n",
    "#nltk.download('stopwords')\n",
    "from nltk.corpus import stopwords\n",
    "import re\n",
    "def clean(para):\n",
    "  #sentences = nltk.sent_tokenize(para)\n",
    "  sentences =  clean1(para)\n",
    "  sentences = [nltk.word_tokenize(sentence) for sentence in sentences]\n",
    "  for i in range(len(sentences)):\n",
    "    sentences[i] = [word for word in sentences[i] if word not in stopwords.words('english')]"
   ]
  },
  {
   "cell_type": "code",
   "execution_count": 736,
   "metadata": {
    "id": "GnL4Z-w3LIxr"
   },
   "outputs": [],
   "source": [
    "\n",
    "import numpy as np\n",
    "def get_response(query):\n",
    "  min=0.4\n",
    "  flag=0\n",
    "  ques=df[0]\n",
    "#query = \"where is mist situated\"\n",
    "  #print('ques : ')\n",
    "  query=clean1(query)\n",
    "  q = compute_vec(query)\n",
    "  for i in range(len(ques)):\n",
    "      sn=clean1(ques[i])\n",
    "      sn=ques[i].lower()\n",
    "      l=compute_vec(sn)\n",
    "      l1=cos_sim(q, l)\n",
    "      if min < l1:\n",
    "        min=l1\n",
    "        flag=1\n",
    "        ans=i\n",
    "  if flag == 0:\n",
    "      return 'sorry!we dont have that information'\n",
    "  else:\n",
    "    \n",
    "      return df[1][ans]\n",
    "    "
   ]
  },
  {
   "cell_type": "code",
   "execution_count": 737,
   "metadata": {
    "colab": {
     "base_uri": "https://localhost:8080/"
    },
    "id": "jjPydQXFLLa8",
    "outputId": "59233ad8-6137-470b-8d2c-4830a8724748"
   },
   "outputs": [],
   "source": [
    "#query = input()\n",
    "#get_response(query)"
   ]
  },
  {
   "cell_type": "code",
   "execution_count": 738,
   "metadata": {
    "id": "ANkyTg8JWyfv"
   },
   "outputs": [],
   "source": [
    "import tkinter as tk\n",
    "from tkinter import *\n",
    "\n",
    "\n",
    "\n",
    "def ret(event):\n",
    "    \n",
    "    \n",
    "    msg = EntryBox.get(\"1.0\",'end-1c').strip()\n",
    "    EntryBox.delete(\"0.0\",END)\n",
    "    \n",
    "    if msg != 'sorry! we dont have that information':\n",
    "        ChatBox.config(state=NORMAL)\n",
    "        ChatBox.insert(END, \"You: \" + msg + '\\n\\n')\n",
    "        ChatBox.config(foreground=\"#070B19\", font=(\"Verdana\", 12 ))\n",
    "    \n",
    "        \n",
    "        res = get_response(msg)\n",
    "        \n",
    "        ChatBox.insert(END, \"Help Desk: \" + res + '\\n\\n')\n",
    "    else:\n",
    "        response=\"Sorry! we dont have that information\"\n",
    "        ChatBox.insert(END, \"Mist Help Desk: \" + response + '\\n\\n')\n",
    "            \n",
    "     \n",
    "  \n",
    "    ChatBox.config(state=DISABLED)\n",
    "    ChatBox.yview(END)\n",
    " "
   ]
  },
  {
   "cell_type": "code",
   "execution_count": 742,
   "metadata": {
    "colab": {
     "base_uri": "https://localhost:8080/",
     "height": 350
    },
    "id": "EEG5o0a0rEzU",
    "outputId": "b4135db3-b116-4b6f-a821-169ba5c9fca0"
   },
   "outputs": [],
   "source": [
    "root = tk.Tk()\n",
    "root.title(\"Mist Help Desk\")\n",
    "\n",
    "root.geometry(\"400x500\")\n",
    "root.resizable(width=FALSE, height=FALSE)\n",
    "\n",
    "#Create Chat window\n",
    "\n",
    "ChatBox = Text(root, bd=0, bg=\"#CEF6CE\", height=\"8\", width=\"50\", font=\"Arial\",)\n",
    "\n",
    "ChatBox.config(state=NORMAL)\n",
    "ChatBox.config(foreground=\"#070B18\", font=(\"Verdana\", 12 ),)\n",
    "ChatBox.insert(END, \"Welcome to MIST Help Desk! how can I help you?\" + '\\n\\n')\n",
    "#Bind scrollbar to Chat window\n",
    "scrollbar = Scrollbar(root, command=ChatBox.yview, cursor=\"heart\")\n",
    "ChatBox['yscrollcommand'] = scrollbar.set\n",
    "\n",
    "SendButton = tk.Button(root, font=(\"Verdana\",12,'bold'), text=\"Send\", width=\"10\", height=5,\n",
    "                    bd=0, bg=\"#21610B\", activebackground=\"#3c9d9b\",fg='white',\n",
    "                    command= send )\n",
    "\n",
    "\n",
    "root.bind('<Return>', ret)\n",
    "SendButton.pack()\n",
    "\n",
    "#Create the box to enter message\n",
    "EntryBox = Text(root, bd=0, bg=\"white\",width=\"33\", height=\"5\", font=\"Arial\",)\n",
    "#EntryBox.bind(\"<Return>\",send)\n",
    "scrollbar.place(x=376,y=6, height=386)\n",
    "ChatBox.place(x=6,y=6, height=386, width=370)\n",
    "\n",
    "EntryBox.place(x=128, y=401, height=90, width=269)\n",
    "\n",
    "SendButton.place(x=6, y=401, height=90)\n",
    "\n",
    "root.mainloop()"
   ]
  },
  {
   "cell_type": "code",
   "execution_count": null,
   "metadata": {},
   "outputs": [],
   "source": []
  },
  {
   "cell_type": "code",
   "execution_count": null,
   "metadata": {},
   "outputs": [],
   "source": []
  }
 ],
 "metadata": {
  "colab": {
   "name": "Un7.ipynb",
   "provenance": [],
   "toc_visible": true
  },
  "kernelspec": {
   "display_name": "Python 3",
   "language": "python",
   "name": "python3"
  },
  "language_info": {
   "codemirror_mode": {
    "name": "ipython",
    "version": 3
   },
   "file_extension": ".py",
   "mimetype": "text/x-python",
   "name": "python",
   "nbconvert_exporter": "python",
   "pygments_lexer": "ipython3",
   "version": "3.8.5"
  }
 },
 "nbformat": 4,
 "nbformat_minor": 1
}
